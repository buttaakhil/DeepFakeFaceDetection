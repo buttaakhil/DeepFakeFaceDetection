{
 "cells": [
  {
   "cell_type": "code",
   "execution_count": 1,
   "id": "462dfcfb-60dd-4e05-af6a-4dfc6021dfc2",
   "metadata": {},
   "outputs": [],
   "source": [
    "import os\n",
    "import torch\n",
    "from torch import nn, optim\n",
    "from torchvision import datasets, transforms\n",
    "from torch.utils.data import DataLoader\n",
    "from sklearn.metrics import classification_report, accuracy_score\n",
    "from PIL import Image"
   ]
  },
  {
   "cell_type": "code",
   "execution_count": 2,
   "id": "c5ce0106-cdd7-4d5e-a8bc-0e4531c21a52",
   "metadata": {},
   "outputs": [],
   "source": [
    "class_names = ['Fake', 'Real']\n",
    "DEVICE = torch.device(\"cuda\" if torch.cuda.is_available() else \"cpu\")\n",
    "BATCH_SIZE = 64\n",
    "EPOCHS = 10\n",
    "LEARNING_RATE = 0.001"
   ]
  },
  {
   "cell_type": "code",
   "execution_count": 3,
   "id": "6518d8d6-4116-4490-9e11-3d1aa69406bb",
   "metadata": {},
   "outputs": [],
   "source": [
    "train_transform = transforms.Compose([\n",
    "    transforms.Resize((224, 224)),\n",
    "    transforms.RandomHorizontalFlip(),\n",
    "    transforms.RandomRotation(10),\n",
    "    transforms.ColorJitter(brightness=0.2, contrast=0.2, saturation=0.2, hue=0.1),\n",
    "    transforms.ToTensor(),\n",
    "    transforms.Normalize(mean=[0.485, 0.456, 0.406], std=[0.229, 0.224, 0.225])\n",
    "])\n",
    "\n",
    "# For test, keep only resizing and normalization\n",
    "test_transform = transforms.Compose([\n",
    "    transforms.Resize((224, 224)),\n",
    "    transforms.ToTensor(),\n",
    "    transforms.Normalize(mean=[0.485, 0.456, 0.406], std=[0.229, 0.224, 0.225])\n",
    "])\n"
   ]
  },
  {
   "cell_type": "code",
   "execution_count": 4,
   "id": "9f246882-f6dd-4d6e-a833-8e57027edb2d",
   "metadata": {},
   "outputs": [],
   "source": [
    "def get_loader(path, shuffle=True, transform=None):\n",
    "    dataset = datasets.ImageFolder(path, transform=transform)\n",
    "    return DataLoader(dataset, batch_size=BATCH_SIZE, shuffle=shuffle)\n",
    "\n",
    "train_loader = get_loader('dataset/train', shuffle=True, transform=train_transform)\n",
    "test_loader = get_loader('dataset/test', shuffle=False, transform=test_transform)"
   ]
  },
  {
   "cell_type": "code",
   "execution_count": 5,
   "id": "dfe888b0-4162-4661-8ee3-c524788ea8aa",
   "metadata": {},
   "outputs": [],
   "source": [
    "class SimpleCNN(nn.Module):\n",
    "    def __init__(self):\n",
    "        super(SimpleCNN, self).__init__()\n",
    "        self.conv = nn.Sequential(\n",
    "            nn.Conv2d(3, 16, kernel_size=3, padding=1),  # [B, 3, 224, 224] -> [B, 16, 224, 224]\n",
    "            nn.ReLU(),\n",
    "            nn.MaxPool2d(2),                             # [B, 16, 112, 112]\n",
    "\n",
    "            nn.Conv2d(16, 32, kernel_size=3, padding=1),\n",
    "            nn.ReLU(),\n",
    "            nn.MaxPool2d(2),                             # [B, 32, 56, 56]\n",
    "\n",
    "            nn.Conv2d(32, 64, kernel_size=3, padding=1),\n",
    "            nn.ReLU(),\n",
    "            nn.MaxPool2d(2)                              # [B, 64, 28, 28]\n",
    "        )\n",
    "\n",
    "        self.fc = nn.Sequential(\n",
    "            nn.Flatten(),\n",
    "            nn.Linear(64 * 28 * 28, 128),\n",
    "            nn.BatchNorm1d(128),\n",
    "            nn.ReLU(),\n",
    "            nn.Dropout(0.5),\n",
    "            nn.Linear(128, 64),\n",
    "            nn.ReLU(),\n",
    "            nn.Dropout(0.3),\n",
    "            nn.Linear(64, 1),\n",
    "            nn.Sigmoid()\n",
    "        )\n",
    "\n",
    "    def forward(self, x):\n",
    "        x = self.conv(x)\n",
    "        x = self.fc(x)\n",
    "        return x\n"
   ]
  },
  {
   "cell_type": "code",
   "execution_count": 6,
   "id": "e430e1ce-2cad-4c40-b43a-03e70849531b",
   "metadata": {},
   "outputs": [],
   "source": [
    "def train_model(model, loader):\n",
    "    criterion = nn.BCELoss()\n",
    "    optimizer = optim.Adam(model.parameters(), lr=LEARNING_RATE, weight_decay=1e-3)\n",
    "\n",
    "\n",
    "    model.train()\n",
    "    for epoch in range(EPOCHS):\n",
    "        total_loss = 0\n",
    "        for images, labels in loader:\n",
    "            images = images.to(DEVICE)\n",
    "            labels = labels.float().unsqueeze(1).to(DEVICE)\n",
    "\n",
    "            optimizer.zero_grad()\n",
    "            outputs = model(images)\n",
    "            loss = criterion(outputs, labels)\n",
    "            loss.backward()\n",
    "            optimizer.step()\n",
    "\n",
    "            total_loss += loss.item()\n",
    "        print(f\"Epoch {epoch+1}/{EPOCHS}, Loss: {total_loss / len(loader):.4f}\")"
   ]
  },
  {
   "cell_type": "code",
   "execution_count": 7,
   "id": "62e94988-3dad-40cc-bb1d-e1896688c891",
   "metadata": {},
   "outputs": [],
   "source": [
    "def test_model(model, loader):\n",
    "    model.eval()\n",
    "    y_true, y_pred = [], []\n",
    "\n",
    "    with torch.no_grad():\n",
    "        for images, labels in loader:\n",
    "            images = images.to(DEVICE)\n",
    "            labels = labels.to(DEVICE)\n",
    "            outputs = model(images)\n",
    "            preds = (outputs > 0.5).int()\n",
    "            y_true.extend(labels.cpu().numpy())\n",
    "            y_pred.extend(preds.cpu().numpy())\n",
    "\n",
    "    print(\"\\nTest Accuracy:\", accuracy_score(y_true, y_pred))\n",
    "    print(classification_report(y_true, y_pred, target_names=class_names))\n"
   ]
  },
  {
   "cell_type": "code",
   "execution_count": 8,
   "id": "4596dd2d-6b50-4d0e-8091-f41934b82d20",
   "metadata": {},
   "outputs": [],
   "source": [
    "model = SimpleCNN().to(DEVICE)"
   ]
  },
  {
   "cell_type": "code",
   "execution_count": 9,
   "id": "9a62e32e-e422-4686-a67e-fca768895510",
   "metadata": {},
   "outputs": [
    {
     "name": "stdout",
     "output_type": "stream",
     "text": [
      "Training custom CNN model...\n",
      "Epoch 1/10, Loss: 0.3483\n",
      "Epoch 2/10, Loss: 0.2566\n",
      "Epoch 3/10, Loss: 0.2316\n",
      "Epoch 4/10, Loss: 0.2223\n",
      "Epoch 5/10, Loss: 0.2218\n",
      "Epoch 6/10, Loss: 0.2082\n",
      "Epoch 7/10, Loss: 0.1969\n",
      "Epoch 8/10, Loss: 0.1949\n",
      "Epoch 9/10, Loss: 0.1914\n",
      "Epoch 10/10, Loss: 0.1824\n"
     ]
    }
   ],
   "source": [
    "print(\"Training custom CNN model...\")\n",
    "train_model(model, train_loader)"
   ]
  },
  {
   "cell_type": "code",
   "execution_count": 10,
   "id": "72dc1fdf-eec7-48fc-8c26-65317eb869a0",
   "metadata": {},
   "outputs": [
    {
     "name": "stdout",
     "output_type": "stream",
     "text": [
      "\n",
      "Evaluating on test set...\n",
      "\n",
      "Test Accuracy: 0.663\n",
      "              precision    recall  f1-score   support\n",
      "\n",
      "        Fake       0.94      0.35      0.51       500\n",
      "        Real       0.60      0.98      0.74       500\n",
      "\n",
      "    accuracy                           0.66      1000\n",
      "   macro avg       0.77      0.66      0.63      1000\n",
      "weighted avg       0.77      0.66      0.63      1000\n",
      "\n"
     ]
    }
   ],
   "source": [
    "print(\"\\nEvaluating on test set...\")\n",
    "test_model(model, test_loader)"
   ]
  },
  {
   "cell_type": "code",
   "execution_count": 12,
   "id": "00616de0-c26b-4a6a-9beb-95b1ddf7a729",
   "metadata": {},
   "outputs": [],
   "source": [
    "torch.save(model.state_dict(), \"deepfake_cnn_model.pkl\")"
   ]
  },
  {
   "cell_type": "code",
   "execution_count": 15,
   "id": "bea0a7c1-4eb0-476f-a1c0-912f79ec2145",
   "metadata": {},
   "outputs": [],
   "source": [
    "from sklearn.metrics import confusion_matrix, classification_report, accuracy_score\n",
    "import seaborn as sns\n",
    "import matplotlib.pyplot as plt\n",
    "\n",
    "def test_model(model, loader):\n",
    "    model.eval()\n",
    "    y_true = []\n",
    "    y_pred = []\n",
    "\n",
    "    with torch.no_grad():\n",
    "        for images, labels in loader:\n",
    "            images = images.to(DEVICE)\n",
    "            labels = labels.to(DEVICE)\n",
    "\n",
    "            outputs = model(images)\n",
    "            preds = (outputs > 0.5).int()\n",
    "\n",
    "            y_true.extend(labels.cpu().numpy())\n",
    "            y_pred.extend(preds.cpu().numpy())\n",
    "\n",
    "    # Metrics\n",
    "    acc = accuracy_score(y_true, y_pred)\n",
    "    print(\"\\nTest Accuracy:\", acc)\n",
    "    print(classification_report(y_true, y_pred, target_names=class_names))\n",
    "\n",
    "    # Confusion Matrix\n",
    "    cm = confusion_matrix(y_true, y_pred)\n",
    "    plt.figure(figsize=(5, 4))\n",
    "    sns.heatmap(cm, annot=True, fmt='d', cmap='Blues', xticklabels=class_names, yticklabels=class_names)\n",
    "    plt.xlabel('Predicted')\n",
    "    plt.ylabel('Actual')\n",
    "    plt.title('Confusion Matrix')\n",
    "    plt.show()\n"
   ]
  },
  {
   "cell_type": "code",
   "execution_count": 16,
   "id": "0d96d252-6578-43d0-b869-7993b311623b",
   "metadata": {},
   "outputs": [
    {
     "name": "stdout",
     "output_type": "stream",
     "text": [
      "\n",
      "Test Accuracy: 0.663\n",
      "              precision    recall  f1-score   support\n",
      "\n",
      "        Fake       0.94      0.35      0.51       500\n",
      "        Real       0.60      0.98      0.74       500\n",
      "\n",
      "    accuracy                           0.66      1000\n",
      "   macro avg       0.77      0.66      0.63      1000\n",
      "weighted avg       0.77      0.66      0.63      1000\n",
      "\n"
     ]
    },
    {
     "data": {
      "image/png": "[encoded data removed]",
      "text/plain": [
       "<Figure size 500x400 with 2 Axes>"
      ]
     },
     "metadata": {},
     "output_type": "display_data"
    }
   ],
   "source": [
    "test_model(model, test_loader)"
   ]
  },
  {
   "cell_type": "code",
   "execution_count": 22,
   "id": "f68cabde-36b9-41b4-b3d3-cf00dd7b548b",
   "metadata": {},
   "outputs": [],
   "source": [
    "from PIL import Image\n",
    "import torch\n",
    "\n",
    "def predict_probability(image_path, model, transform):\n",
    "    image = Image.open(image_path).convert('RGB')\n",
    "    image = transform(image).unsqueeze(0).to(DEVICE)  # [1, 3, 224, 224]\n",
    "\n",
    "    model.eval()\n",
    "    with torch.no_grad():\n",
    "        output = model(image)\n",
    "        probability = output.item()\n",
    "\n",
    "    return 1-probability  # Float between 0 and 1\n"
   ]
  },
  {
   "cell_type": "code",
   "execution_count": 33,
   "id": "5933bc4c-9600-4213-bb34-a2a7c1e5e60b",
   "metadata": {},
   "outputs": [],
   "source": [
    "image_path=\"img6.jpg\"\n",
    "rob = predict_probability(image_path, model, test_transform)"
   ]
  },
  {
   "cell_type": "code",
   "execution_count": 34,
   "id": "57b2e00a-5d2a-4e40-88b1-0dd4fbf2ea95",
   "metadata": {},
   "outputs": [
    {
     "data": {
      "text/plain": [
       "0.05147188901901245"
      ]
     },
     "execution_count": 34,
     "metadata": {},
     "output_type": "execute_result"
    }
   ],
   "source": [
    "rob"
   ]
  },
  {
   "cell_type": "code",
   "execution_count": null,
   "id": "7ab1b6ce-8e28-4ec3-a592-e0bffc15a7f3",
   "metadata": {},
   "outputs": [],
   "source": []
  }
 ],
 "metadata": {
  "kernelspec": {
   "display_name": "Python 3 (ipykernel)",
   "language": "python",
   "name": "python3"
  },
  "language_info": {
   "codemirror_mode": {
    "name": "ipython",
    "version": 3
   },
   "file_extension": ".py",
   "mimetype": "text/x-python",
   "name": "python",
   "nbconvert_exporter": "python",
   "pygments_lexer": "ipython3",
   "version": "3.12.2"
  }
 },
 "nbformat": 4,
 "nbformat_minor": 5
}
